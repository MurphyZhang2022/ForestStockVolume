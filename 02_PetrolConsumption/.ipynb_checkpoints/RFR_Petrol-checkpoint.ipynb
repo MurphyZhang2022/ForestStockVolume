{
 "cells": [
  {
   "cell_type": "code",
   "execution_count": 9,
   "id": "6498c021",
   "metadata": {
    "ExecuteTime": {
     "end_time": "2023-04-23T10:33:06.662639Z",
     "start_time": "2023-04-23T10:33:06.635681Z"
    }
   },
   "outputs": [
    {
     "name": "stdout",
     "output_type": "stream",
     "text": [
      "   Petrol_tax  Average_income  Paved_Highways  Population_Driver_licence(%)  Petrol_Consumption\n",
      "0         9.0            3571            1976                         0.525                 541\n",
      "1         9.0            4092            1250                         0.572                 524\n",
      "2         9.0            3865            1586                         0.580                 561\n",
      "3         7.5            4870            2351                         0.529                 414\n",
      "4         8.0            4399             431                         0.544                 410\n"
     ]
    }
   ],
   "source": [
    "#https://blog.csdn.net/wokaowokaowokao12345/article/details/109441753\n",
    "import pandas as pd \n",
    "import numpy as np\n",
    "\n",
    "#加载数据\n",
    "data = pd.read_csv('datasets/petrol_consumption.csv')\n",
    "#数据预览\n",
    "print(data.head())\n",
    "\n",
    "# 准备训练数据\n",
    "# 自变量：汽油税、人均收入、高速公路、人口所占比例\n",
    "# 因变量：汽油消耗量\n",
    "X = data.iloc[:,:-1].values\n",
    "y = data.iloc[:,-1:].values\n",
    "#print(y)\n",
    "\n",
    "#将数据分为训练集和测试集\n",
    "from sklearn.model_selection import train_test_split\n",
    "X_train, X_test, y_train, y_test = train_test_split(X, y, test_size=0.2,random_state=0)"
   ]
  },
  {
   "cell_type": "code",
   "execution_count": 10,
   "id": "74d80843",
   "metadata": {
    "ExecuteTime": {
     "end_time": "2023-04-23T10:34:53.616641Z",
     "start_time": "2023-04-23T10:34:53.599681Z"
    }
   },
   "outputs": [],
   "source": [
    "# 特征缩放，通常没必要\n",
    "# 因为数据单位，自变量数值范围差距巨大，不缩放也没问题\n",
    "from sklearn.preprocessing import StandardScaler\n",
    "\n",
    "sc = StandardScaler()\n",
    "X_train = sc.fit_transform(X_train)\n",
    "X_test = sc.transform(X_test)"
   ]
  },
  {
   "cell_type": "code",
   "execution_count": 11,
   "id": "d8224178",
   "metadata": {
    "ExecuteTime": {
     "end_time": "2023-04-23T10:36:23.019659Z",
     "start_time": "2023-04-23T10:36:22.842933Z"
    }
   },
   "outputs": [
    {
     "name": "stderr",
     "output_type": "stream",
     "text": [
      "C:\\Users\\Administrator\\anaconda3\\envs\\cudaOCRpy37\\lib\\site-packages\\ipykernel_launcher.py:4: DataConversionWarning: A column-vector y was passed when a 1d array was expected. Please change the shape of y to (n_samples,), for example using ravel().\n",
      "  after removing the cwd from sys.path.\n"
     ]
    }
   ],
   "source": [
    "# 训练随机森林解决回归问题\n",
    "from sklearn.ensemble import RandomForestRegressor\n",
    "regressor = RandomForestRegressor(n_estimators=200, random_state=0)\n",
    "regressor.fit(X_train, y_train)\n",
    "y_pred = regressor.predict(X_test)"
   ]
  },
  {
   "cell_type": "code",
   "execution_count": 12,
   "id": "2c99351d",
   "metadata": {
    "ExecuteTime": {
     "end_time": "2023-04-23T10:38:00.830393Z",
     "start_time": "2023-04-23T10:38:00.818425Z"
    }
   },
   "outputs": [
    {
     "name": "stdout",
     "output_type": "stream",
     "text": [
      "Mean Absolute Error: 48.33899999999999\n",
      "Mean Squared Error: 3494.2330150000003\n",
      "Root Mean Squared Error: 59.112037818028234\n"
     ]
    }
   ],
   "source": [
    "#评估回归性能\n",
    "from sklearn import metrics\n",
    "\n",
    "print('Mean Absolute Error:', metrics.mean_absolute_error(y_test, y_pred))\n",
    "print('Mean Squared Error:', metrics.mean_squared_error(y_test, y_pred))\n",
    "print('Root Mean Squared Error:',\n",
    "      np.sqrt(metrics.mean_squared_error(y_test, y_pred)))\n"
   ]
  },
  {
   "cell_type": "code",
   "execution_count": null,
   "id": "0a9f9df0",
   "metadata": {},
   "outputs": [],
   "source": []
  }
 ],
 "metadata": {
  "kernelspec": {
   "display_name": "cudaOCRpy37",
   "language": "python",
   "name": "cudaocrpy37"
  },
  "language_info": {
   "codemirror_mode": {
    "name": "ipython",
    "version": 3
   },
   "file_extension": ".py",
   "mimetype": "text/x-python",
   "name": "python",
   "nbconvert_exporter": "python",
   "pygments_lexer": "ipython3",
   "version": "3.7.12"
  }
 },
 "nbformat": 4,
 "nbformat_minor": 5
}
