{
 "cells": [
  {
   "cell_type": "code",
   "execution_count": 4,
   "id": "cc045c33",
   "metadata": {
    "ExecuteTime": {
     "end_time": "2023-04-24T06:28:33.600434Z",
     "start_time": "2023-04-24T06:28:32.513811Z"
    }
   },
   "outputs": [],
   "source": [
    "import numpy as np\n",
    "import pandas as pd \n",
    "import scipy.stats as stats\n",
    "from openpyxl import load_workbook\n",
    "import matplotlib.pyplot as plt"
   ]
  },
  {
   "cell_type": "code",
   "execution_count": 5,
   "id": "9fdf1e9f",
   "metadata": {
    "ExecuteTime": {
     "end_time": "2023-04-24T06:28:33.871750Z",
     "start_time": "2023-04-24T06:28:33.649997Z"
    }
   },
   "outputs": [],
   "source": [
    "#模块与数据准备\n",
    "#导入所需要的模块。在这里，需要pydot与graphviz这两个相对不太常用的模块，特别是graphviz是个独立的软件\n",
    "import pydot\n",
    "from sklearn.tree import export_graphviz"
   ]
  },
  {
   "cell_type": "code",
   "execution_count": 6,
   "id": "a8839832",
   "metadata": {
    "ExecuteTime": {
     "end_time": "2023-04-24T06:28:35.139382Z",
     "start_time": "2023-04-24T06:28:35.114095Z"
    }
   },
   "outputs": [],
   "source": [
    "from sklearn import metrics\n",
    "from sklearn.ensemble import RandomForestRegressor\n",
    "from sklearn.model_selection import train_test_split  #用于数据集划分"
   ]
  },
  {
   "cell_type": "code",
   "execution_count": 7,
   "id": "a8870985",
   "metadata": {
    "ExecuteTime": {
     "end_time": "2023-04-24T06:28:36.504135Z",
     "start_time": "2023-04-24T06:28:36.489941Z"
    }
   },
   "outputs": [],
   "source": [
    "#参数配置\n",
    "MyDataPath='datasets/petrol_consumption.csv' # 确定输入数据的位置\n",
    "TestSize=0.2 # 确定数据中测试集所占比例\n",
    "RandomSeed=np.random.randint(low=24,high=25) # 确定划分训练集与测试集的随机数种子"
   ]
  },
  {
   "cell_type": "code",
   "execution_count": 8,
   "id": "f71b83f8",
   "metadata": {
    "ExecuteTime": {
     "end_time": "2023-04-24T06:28:38.291952Z",
     "start_time": "2023-04-24T06:28:38.273518Z"
    }
   },
   "outputs": [],
   "source": [
    "#初始数据集划分为训练集与测试集\n",
    "#数据训练集与测试集的划分在机器学习、深度学习中是不可或缺的作用\n",
    "#数据保存在csv文件中，因此可以用pd.read_csv直接读取。\n",
    "#其中，数据的每一列是一个特征，每一行是全部特征与因变量（就是下面的Yield）组合成的样本。\n",
    "\n",
    "def LoadData(DataPath):\n",
    "    MyData = pd.read_csv(DataPath, names=['Petrol_tax','Average_income','Paved_Highways','Population_Driver_licence(%)',\n",
    "                                      'Petrol_Consumption'],header=0) #加载DataPath路径所指定的数据，names中的内容为各列的名称\n",
    "    return MyData\n",
    "    \n",
    "#初始数据处理\n",
    "AllXY = LoadData(MyDataPath) # 调用LoadData函数，获取数据\n",
    "#print(AllXY)\n",
    "Label={\"Petrol_Consumption\":AllXY.pop(\"Petrol_Consumption\")} # 将因变量从全部数据中提取出\n",
    "AllX,AllY=AllXY,(pd.DataFrame(Label)) # 将自变量与因变量分离\n",
    "#print(AllY)\n",
    "\n",
    "#划分数据训练集与测试集\n",
    "TrainX, TestX, TrainY,TestY= train_test_split(AllX,\n",
    "                                              AllY,\n",
    "                                              test_size=TestSize,  # 指定数据中测试集所占比例\n",
    "                                              random_state=RandomSeed) # 指定划分训练集与测试集的随机数种子\n",
    "#print(TestY)"
   ]
  },
  {
   "cell_type": "code",
   "execution_count": null,
   "id": "b2849e83",
   "metadata": {},
   "outputs": [],
   "source": []
  }
 ],
 "metadata": {
  "kernelspec": {
   "display_name": "cudaOCRpy37",
   "language": "python",
   "name": "cudaocrpy37"
  },
  "language_info": {
   "codemirror_mode": {
    "name": "ipython",
    "version": 3
   },
   "file_extension": ".py",
   "mimetype": "text/x-python",
   "name": "python",
   "nbconvert_exporter": "python",
   "pygments_lexer": "ipython3",
   "version": "3.7.12"
  }
 },
 "nbformat": 4,
 "nbformat_minor": 5
}
