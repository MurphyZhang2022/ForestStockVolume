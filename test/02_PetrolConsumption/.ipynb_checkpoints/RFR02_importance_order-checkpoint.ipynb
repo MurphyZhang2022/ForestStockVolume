{
 "cells": [
  {
   "cell_type": "code",
   "execution_count": 7,
   "id": "113ccd7d",
   "metadata": {
    "ExecuteTime": {
     "end_time": "2023-04-24T02:50:52.920511Z",
     "start_time": "2023-04-24T02:50:52.904886Z"
    }
   },
   "outputs": [],
   "source": [
    "import numpy as np\n",
    "import pandas as pd \n",
    "import scipy.stats as stats\n",
    "from openpyxl import load_workbook\n",
    "import matplotlib.pyplot as plt"
   ]
  },
  {
   "cell_type": "code",
   "execution_count": 2,
   "id": "739d7577",
   "metadata": {
    "ExecuteTime": {
     "end_time": "2023-04-24T02:48:06.308745Z",
     "start_time": "2023-04-24T02:48:06.266030Z"
    }
   },
   "outputs": [],
   "source": [
    "#模块与数据准备\n",
    "#导入所需要的模块。在这里，需要pydot与graphviz这两个相对不太常用的模块，特别是graphviz是个独立的软件\n",
    "import pydot\n",
    "from sklearn.tree import export_graphviz"
   ]
  },
  {
   "cell_type": "code",
   "execution_count": 8,
   "id": "91ece816",
   "metadata": {
    "ExecuteTime": {
     "end_time": "2023-04-24T02:51:38.203485Z",
     "start_time": "2023-04-24T02:51:38.199745Z"
    }
   },
   "outputs": [],
   "source": [
    "from sklearn import metrics\n",
    "from sklearn.ensemble import RandomForestRegressor"
   ]
  },
  {
   "cell_type": "code",
   "execution_count": null,
   "id": "8e73cb8a",
   "metadata": {},
   "outputs": [],
   "source": []
  }
 ],
 "metadata": {
  "kernelspec": {
   "display_name": "cudaOCRpy37",
   "language": "python",
   "name": "cudaocrpy37"
  },
  "language_info": {
   "codemirror_mode": {
    "name": "ipython",
    "version": 3
   },
   "file_extension": ".py",
   "mimetype": "text/x-python",
   "name": "python",
   "nbconvert_exporter": "python",
   "pygments_lexer": "ipython3",
   "version": "3.7.12"
  }
 },
 "nbformat": 4,
 "nbformat_minor": 5
}
