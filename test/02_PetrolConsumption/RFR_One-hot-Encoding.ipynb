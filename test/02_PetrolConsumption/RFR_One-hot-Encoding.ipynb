{
 "cells": [
  {
   "cell_type": "code",
   "execution_count": 1,
   "id": "e396eb3d",
   "metadata": {
    "ExecuteTime": {
     "end_time": "2023-04-24T04:38:08.878054Z",
     "start_time": "2023-04-24T04:38:08.261577Z"
    }
   },
   "outputs": [
    {
     "data": {
      "text/html": [
       "<div>\n",
       "<style scoped>\n",
       "    .dataframe tbody tr th:only-of-type {\n",
       "        vertical-align: middle;\n",
       "    }\n",
       "\n",
       "    .dataframe tbody tr th {\n",
       "        vertical-align: top;\n",
       "    }\n",
       "\n",
       "    .dataframe thead th {\n",
       "        text-align: right;\n",
       "    }\n",
       "</style>\n",
       "<table border=\"1\" class=\"dataframe\">\n",
       "  <thead>\n",
       "    <tr style=\"text-align: right;\">\n",
       "      <th></th>\n",
       "      <th>Petrol_tax</th>\n",
       "      <th>Average_income</th>\n",
       "      <th>Paved_Highways</th>\n",
       "    </tr>\n",
       "  </thead>\n",
       "  <tbody>\n",
       "    <tr>\n",
       "      <th>0</th>\n",
       "      <td>9.0</td>\n",
       "      <td>3571</td>\n",
       "      <td>1976</td>\n",
       "    </tr>\n",
       "    <tr>\n",
       "      <th>1</th>\n",
       "      <td>9.0</td>\n",
       "      <td>4092</td>\n",
       "      <td>1250</td>\n",
       "    </tr>\n",
       "    <tr>\n",
       "      <th>2</th>\n",
       "      <td>9.0</td>\n",
       "      <td>3865</td>\n",
       "      <td>1586</td>\n",
       "    </tr>\n",
       "    <tr>\n",
       "      <th>3</th>\n",
       "      <td>7.5</td>\n",
       "      <td>4870</td>\n",
       "      <td>2351</td>\n",
       "    </tr>\n",
       "    <tr>\n",
       "      <th>4</th>\n",
       "      <td>8.0</td>\n",
       "      <td>4399</td>\n",
       "      <td>431</td>\n",
       "    </tr>\n",
       "  </tbody>\n",
       "</table>\n",
       "</div>"
      ],
      "text/plain": [
       "   Petrol_tax  Average_income  Paved_Highways\n",
       "0         9.0            3571            1976\n",
       "1         9.0            4092            1250\n",
       "2         9.0            3865            1586\n",
       "3         7.5            4870            2351\n",
       "4         8.0            4399             431"
      ]
     },
     "execution_count": 1,
     "metadata": {},
     "output_type": "execute_result"
    }
   ],
   "source": [
    "#Python下数值型与字符型类别变量独热编码（One-hot Encoding）实现\n",
    "#类别变量的独热编码（One-hot Encoding）\n",
    "#在数据处理与分析领域，数值型与字符型类别变量的编码是不可或缺的预处理操作。\n",
    "#本文基于Python下OneHotEncoder与pd.get_dummies两种方法，对机器学习中最优的编码方法——独热编码加以实现。\n",
    "#1 OneHotEncoder\n",
    "import pandas as pd\n",
    "from sklearn.preprocessing import OneHotEncoder #OneHotEncoder是我们实现独热编码的关键模块。\n",
    "\n",
    "#导入并显示数据前五行\n",
    "test_data_1=pd.read_csv('datasets/onehot_test.csv',names=['Petrol_tax','Average_income','Paved_Highways'],header=0)\n",
    "test_data_1.head(5)\n",
    "#数据前五行展示如下图。其中，前两列'Average_income'与'Paved_Highways'为数值型连续变量，而'Petrol_tax'为数值型类别变量。我们要做的，也就是将第三列'Petrol_tax'进行独热编码。"
   ]
  },
  {
   "cell_type": "code",
   "execution_count": 2,
   "id": "fd0337e6",
   "metadata": {
    "ExecuteTime": {
     "end_time": "2023-04-24T04:45:25.969364Z",
     "start_time": "2023-04-24T04:45:25.955435Z"
    }
   },
   "outputs": [
    {
     "data": {
      "text/plain": [
       "OneHotEncoder(handle_unknown='ignore')"
      ]
     },
     "execution_count": 2,
     "metadata": {},
     "output_type": "execute_result"
    }
   ],
   "source": [
    "#接下来，进行独热编码的配置\n",
    "ohe = OneHotEncoder(handle_unknown='ignore') #是对独热编码的配置\n",
    "ohe.fit(test_data_1) #对我们刚刚导入的数据进行独热编码处理\n",
    "\n",
    "#得到一个独热编码配置的输出结果:"
   ]
  },
  {
   "cell_type": "code",
   "execution_count": 4,
   "id": "542bc885",
   "metadata": {
    "ExecuteTime": {
     "end_time": "2023-04-24T04:46:02.026704Z",
     "start_time": "2023-04-24T04:46:02.013739Z"
    }
   },
   "outputs": [
    {
     "data": {
      "text/plain": [
       "[array([ 5.  ,  6.  ,  6.58,  7.  ,  7.5 ,  8.  ,  8.5 ,  9.  , 10.  ]),\n",
       " array([3063, 3333, 3357, 3448, 3528, 3571, 3601, 3635, 3640, 3656, 3718,\n",
       "        3721, 3745, 3802, 3846, 3865, 3897, 4045, 4092, 4188, 4206, 4207,\n",
       "        4258, 4296, 4300, 4318, 4332, 4341, 4345, 4391, 4399, 4447, 4449,\n",
       "        4476, 4512, 4574, 4593, 4716, 4817, 4870, 4897, 4983, 5002, 5126,\n",
       "        5215, 5319, 5342], dtype=int64),\n",
       " array([  431,   602,  1250,  1333,  1586,  1976,  2138,  2302,  2351,\n",
       "         2449,  2611,  2619,  3274,  3495,  3635,  3905,  3942,  3985,\n",
       "         4083,  4121,  4639,  4650,  4686,  4725,  4746,  5399,  5915,\n",
       "         5939,  5975,  6010,  6385,  6524,  6580,  6594,  6905,  6930,\n",
       "         7834,  8159,  8507,  8508,  8577,  9061,  9794, 10340, 11868,\n",
       "        14186, 17782], dtype=int64)]"
      ]
     },
     "execution_count": 4,
     "metadata": {},
     "output_type": "execute_result"
    }
   ],
   "source": [
    "#看看独热编码处理后，将我们的数据分成了哪些类别。\n",
    "ohe.categories_"
   ]
  },
  {
   "cell_type": "code",
   "execution_count": 5,
   "id": "116f134e",
   "metadata": {
    "ExecuteTime": {
     "end_time": "2023-04-24T04:48:46.841140Z",
     "start_time": "2023-04-24T04:48:46.812252Z"
    }
   },
   "outputs": [
    {
     "data": {
      "text/html": [
       "<div>\n",
       "<style scoped>\n",
       "    .dataframe tbody tr th:only-of-type {\n",
       "        vertical-align: middle;\n",
       "    }\n",
       "\n",
       "    .dataframe tbody tr th {\n",
       "        vertical-align: top;\n",
       "    }\n",
       "\n",
       "    .dataframe thead th {\n",
       "        text-align: right;\n",
       "    }\n",
       "</style>\n",
       "<table border=\"1\" class=\"dataframe\">\n",
       "  <thead>\n",
       "    <tr style=\"text-align: right;\">\n",
       "      <th></th>\n",
       "      <th>0</th>\n",
       "      <th>1</th>\n",
       "      <th>2</th>\n",
       "      <th>3</th>\n",
       "      <th>4</th>\n",
       "      <th>5</th>\n",
       "      <th>6</th>\n",
       "      <th>7</th>\n",
       "      <th>8</th>\n",
       "    </tr>\n",
       "  </thead>\n",
       "  <tbody>\n",
       "    <tr>\n",
       "      <th>0</th>\n",
       "      <td>0.0</td>\n",
       "      <td>0.0</td>\n",
       "      <td>0.0</td>\n",
       "      <td>0.0</td>\n",
       "      <td>0.0</td>\n",
       "      <td>0.0</td>\n",
       "      <td>0.0</td>\n",
       "      <td>1.0</td>\n",
       "      <td>0.0</td>\n",
       "    </tr>\n",
       "    <tr>\n",
       "      <th>1</th>\n",
       "      <td>0.0</td>\n",
       "      <td>0.0</td>\n",
       "      <td>0.0</td>\n",
       "      <td>0.0</td>\n",
       "      <td>0.0</td>\n",
       "      <td>0.0</td>\n",
       "      <td>0.0</td>\n",
       "      <td>1.0</td>\n",
       "      <td>0.0</td>\n",
       "    </tr>\n",
       "    <tr>\n",
       "      <th>2</th>\n",
       "      <td>0.0</td>\n",
       "      <td>0.0</td>\n",
       "      <td>0.0</td>\n",
       "      <td>0.0</td>\n",
       "      <td>0.0</td>\n",
       "      <td>0.0</td>\n",
       "      <td>0.0</td>\n",
       "      <td>1.0</td>\n",
       "      <td>0.0</td>\n",
       "    </tr>\n",
       "    <tr>\n",
       "      <th>3</th>\n",
       "      <td>0.0</td>\n",
       "      <td>0.0</td>\n",
       "      <td>0.0</td>\n",
       "      <td>0.0</td>\n",
       "      <td>1.0</td>\n",
       "      <td>0.0</td>\n",
       "      <td>0.0</td>\n",
       "      <td>0.0</td>\n",
       "      <td>0.0</td>\n",
       "    </tr>\n",
       "    <tr>\n",
       "      <th>4</th>\n",
       "      <td>0.0</td>\n",
       "      <td>0.0</td>\n",
       "      <td>0.0</td>\n",
       "      <td>0.0</td>\n",
       "      <td>0.0</td>\n",
       "      <td>1.0</td>\n",
       "      <td>0.0</td>\n",
       "      <td>0.0</td>\n",
       "      <td>0.0</td>\n",
       "    </tr>\n",
       "  </tbody>\n",
       "</table>\n",
       "</div>"
      ],
      "text/plain": [
       "     0    1    2    3    4    5    6    7    8\n",
       "0  0.0  0.0  0.0  0.0  0.0  0.0  0.0  1.0  0.0\n",
       "1  0.0  0.0  0.0  0.0  0.0  0.0  0.0  1.0  0.0\n",
       "2  0.0  0.0  0.0  0.0  0.0  0.0  0.0  1.0  0.0\n",
       "3  0.0  0.0  0.0  0.0  1.0  0.0  0.0  0.0  0.0\n",
       "4  0.0  0.0  0.0  0.0  0.0  1.0  0.0  0.0  0.0"
      ]
     },
     "execution_count": 5,
     "metadata": {},
     "output_type": "execute_result"
    }
   ],
   "source": [
    "#可以发现，一共有三个array，为什么呢？仔细看可以发现，独热编码是将我们导入的三列数据全部都当作类别变量来处理了。\n",
    "#之所以会这样，是因为我们在一开始没有表明哪一列是类别变量，需要进行独热编码；而哪一列不是类别变量，从而不需要进行独热编码。\n",
    "\n",
    "#那么，我们如何实现上述需求，告诉程序我们要对哪一行进行独热编码呢？\n",
    "#在老版本的sklearn中，我们可以借助categorical_features=[x]参数来实现这一功能，但是新版本sklearn取消了这一参数。\n",
    "#那么此时，一方面，我们可以借助ColumnTransformer来实现这一过程，另一方面，我们可以直接对需要进行转换的列加以处理。\n",
    "#后者相对较为容易理解，因此本文对后者进行讲解。\n",
    "\n",
    "\n",
    "#我们将test_data_1中的'Petrol_tax'('Type')列作为索引，从而仅仅对该列数据加以独热编码。\n",
    "ohe_column=pd.DataFrame(ohe.fit_transform(test_data_1[['Petrol_tax']]).toarray())\n",
    "ohe_column.head(5)"
   ]
  },
  {
   "cell_type": "code",
   "execution_count": 6,
   "id": "a2484e80",
   "metadata": {
    "ExecuteTime": {
     "end_time": "2023-04-24T04:50:33.475503Z",
     "start_time": "2023-04-24T04:50:33.461549Z"
    }
   },
   "outputs": [
    {
     "name": "stdout",
     "output_type": "stream",
     "text": [
      "       Petrol_tax\n",
      "7.00           19\n",
      "8.00           10\n",
      "9.00            8\n",
      "7.50            4\n",
      "8.50            3\n",
      "10.00           1\n",
      "6.58            1\n",
      "5.00            1\n",
      "6.00            1\n"
     ]
    }
   ],
   "source": [
    "#可以看到，原来的'Petrol_tax'列现在成为了9列的编码列，那么这样的话，说明我们原先的'Petrol_tax'应该一共是有9个不同的数值。\n",
    "#是不是这个样子呢？我们来检查一下。\n",
    "count=pd.DataFrame(test_data_1['Petrol_tax'].value_counts())\n",
    "print(count)"
   ]
  },
  {
   "cell_type": "code",
   "execution_count": 7,
   "id": "6b8241e4",
   "metadata": {
    "ExecuteTime": {
     "end_time": "2023-04-24T04:52:00.192150Z",
     "start_time": "2023-04-24T04:52:00.172235Z"
    }
   },
   "outputs": [
    {
     "data": {
      "text/html": [
       "<div>\n",
       "<style scoped>\n",
       "    .dataframe tbody tr th:only-of-type {\n",
       "        vertical-align: middle;\n",
       "    }\n",
       "\n",
       "    .dataframe tbody tr th {\n",
       "        vertical-align: top;\n",
       "    }\n",
       "\n",
       "    .dataframe thead th {\n",
       "        text-align: right;\n",
       "    }\n",
       "</style>\n",
       "<table border=\"1\" class=\"dataframe\">\n",
       "  <thead>\n",
       "    <tr style=\"text-align: right;\">\n",
       "      <th></th>\n",
       "      <th>Petrol_tax</th>\n",
       "      <th>Average_income</th>\n",
       "      <th>Paved_Highways</th>\n",
       "    </tr>\n",
       "  </thead>\n",
       "  <tbody>\n",
       "    <tr>\n",
       "      <th>0</th>\n",
       "      <td>9.0</td>\n",
       "      <td>3571</td>\n",
       "      <td>1976</td>\n",
       "    </tr>\n",
       "    <tr>\n",
       "      <th>1</th>\n",
       "      <td>9.0</td>\n",
       "      <td>4092</td>\n",
       "      <td>1250</td>\n",
       "    </tr>\n",
       "    <tr>\n",
       "      <th>2</th>\n",
       "      <td>9.0</td>\n",
       "      <td>3865</td>\n",
       "      <td>1586</td>\n",
       "    </tr>\n",
       "    <tr>\n",
       "      <th>3</th>\n",
       "      <td>7.5</td>\n",
       "      <td>4870</td>\n",
       "      <td>2351</td>\n",
       "    </tr>\n",
       "    <tr>\n",
       "      <th>4</th>\n",
       "      <td>8.0</td>\n",
       "      <td>4399</td>\n",
       "      <td>431</td>\n",
       "    </tr>\n",
       "  </tbody>\n",
       "</table>\n",
       "</div>"
      ],
      "text/plain": [
       "   Petrol_tax  Average_income  Paved_Highways\n",
       "0         9.0            3571            1976\n",
       "1         9.0            4092            1250\n",
       "2         9.0            3865            1586\n",
       "3         7.5            4870            2351\n",
       "4         8.0            4399             431"
      ]
     },
     "execution_count": 7,
     "metadata": {},
     "output_type": "execute_result"
    }
   ],
   "source": [
    "#好的，没有问题：可以看到此结果共有9行，也就是'Petrol_tax'列原本是有9个不同的值的，证明我们的独热编码没有出错。\n",
    "#此时看一下我们的test_data_1数据目前长什么样子。\n",
    "test_data_1.head(5)"
   ]
  },
  {
   "cell_type": "code",
   "execution_count": 8,
   "id": "9f323ac2",
   "metadata": {
    "ExecuteTime": {
     "end_time": "2023-04-24T04:53:43.547183Z",
     "start_time": "2023-04-24T04:53:43.532183Z"
    }
   },
   "outputs": [
    {
     "data": {
      "text/html": [
       "<div>\n",
       "<style scoped>\n",
       "    .dataframe tbody tr th:only-of-type {\n",
       "        vertical-align: middle;\n",
       "    }\n",
       "\n",
       "    .dataframe tbody tr th {\n",
       "        vertical-align: top;\n",
       "    }\n",
       "\n",
       "    .dataframe thead th {\n",
       "        text-align: right;\n",
       "    }\n",
       "</style>\n",
       "<table border=\"1\" class=\"dataframe\">\n",
       "  <thead>\n",
       "    <tr style=\"text-align: right;\">\n",
       "      <th></th>\n",
       "      <th>Average_income</th>\n",
       "      <th>Paved_Highways</th>\n",
       "    </tr>\n",
       "  </thead>\n",
       "  <tbody>\n",
       "    <tr>\n",
       "      <th>0</th>\n",
       "      <td>3571</td>\n",
       "      <td>1976</td>\n",
       "    </tr>\n",
       "    <tr>\n",
       "      <th>1</th>\n",
       "      <td>4092</td>\n",
       "      <td>1250</td>\n",
       "    </tr>\n",
       "    <tr>\n",
       "      <th>2</th>\n",
       "      <td>3865</td>\n",
       "      <td>1586</td>\n",
       "    </tr>\n",
       "    <tr>\n",
       "      <th>3</th>\n",
       "      <td>4870</td>\n",
       "      <td>2351</td>\n",
       "    </tr>\n",
       "    <tr>\n",
       "      <th>4</th>\n",
       "      <td>4399</td>\n",
       "      <td>431</td>\n",
       "    </tr>\n",
       "  </tbody>\n",
       "</table>\n",
       "</div>"
      ],
      "text/plain": [
       "   Average_income  Paved_Highways\n",
       "0            3571            1976\n",
       "1            4092            1250\n",
       "2            3865            1586\n",
       "3            4870            2351\n",
       "4            4399             431"
      ]
     },
     "execution_count": 8,
     "metadata": {},
     "output_type": "execute_result"
    }
   ],
   "source": [
    "#我们仅仅对'Petrol_tax'列做了处理，没有影响到整个初始数据。那么先将原本的Petrol_tax'列剔除掉。\n",
    "test_data_1=test_data_1.drop(['Petrol_tax'],axis=1)\n",
    "test_data_1.head(5)"
   ]
  },
  {
   "cell_type": "code",
   "execution_count": 12,
   "id": "a3205f66",
   "metadata": {
    "ExecuteTime": {
     "end_time": "2023-04-24T04:56:36.414502Z",
     "start_time": "2023-04-24T04:56:36.392111Z"
    }
   },
   "outputs": [
    {
     "data": {
      "text/html": [
       "<div>\n",
       "<style scoped>\n",
       "    .dataframe tbody tr th:only-of-type {\n",
       "        vertical-align: middle;\n",
       "    }\n",
       "\n",
       "    .dataframe tbody tr th {\n",
       "        vertical-align: top;\n",
       "    }\n",
       "\n",
       "    .dataframe thead th {\n",
       "        text-align: right;\n",
       "    }\n",
       "</style>\n",
       "<table border=\"1\" class=\"dataframe\">\n",
       "  <thead>\n",
       "    <tr style=\"text-align: right;\">\n",
       "      <th></th>\n",
       "      <th>Average_income</th>\n",
       "      <th>Paved_Highways</th>\n",
       "      <th>0</th>\n",
       "      <th>1</th>\n",
       "      <th>2</th>\n",
       "      <th>3</th>\n",
       "      <th>4</th>\n",
       "      <th>5</th>\n",
       "      <th>6</th>\n",
       "      <th>7</th>\n",
       "      <th>8</th>\n",
       "    </tr>\n",
       "  </thead>\n",
       "  <tbody>\n",
       "    <tr>\n",
       "      <th>0</th>\n",
       "      <td>3571</td>\n",
       "      <td>1976</td>\n",
       "      <td>0.0</td>\n",
       "      <td>0.0</td>\n",
       "      <td>0.0</td>\n",
       "      <td>0.0</td>\n",
       "      <td>0.0</td>\n",
       "      <td>0.0</td>\n",
       "      <td>0.0</td>\n",
       "      <td>1.0</td>\n",
       "      <td>0.0</td>\n",
       "    </tr>\n",
       "    <tr>\n",
       "      <th>1</th>\n",
       "      <td>4092</td>\n",
       "      <td>1250</td>\n",
       "      <td>0.0</td>\n",
       "      <td>0.0</td>\n",
       "      <td>0.0</td>\n",
       "      <td>0.0</td>\n",
       "      <td>0.0</td>\n",
       "      <td>0.0</td>\n",
       "      <td>0.0</td>\n",
       "      <td>1.0</td>\n",
       "      <td>0.0</td>\n",
       "    </tr>\n",
       "    <tr>\n",
       "      <th>2</th>\n",
       "      <td>3865</td>\n",
       "      <td>1586</td>\n",
       "      <td>0.0</td>\n",
       "      <td>0.0</td>\n",
       "      <td>0.0</td>\n",
       "      <td>0.0</td>\n",
       "      <td>0.0</td>\n",
       "      <td>0.0</td>\n",
       "      <td>0.0</td>\n",
       "      <td>1.0</td>\n",
       "      <td>0.0</td>\n",
       "    </tr>\n",
       "    <tr>\n",
       "      <th>3</th>\n",
       "      <td>4870</td>\n",
       "      <td>2351</td>\n",
       "      <td>0.0</td>\n",
       "      <td>0.0</td>\n",
       "      <td>0.0</td>\n",
       "      <td>0.0</td>\n",
       "      <td>1.0</td>\n",
       "      <td>0.0</td>\n",
       "      <td>0.0</td>\n",
       "      <td>0.0</td>\n",
       "      <td>0.0</td>\n",
       "    </tr>\n",
       "    <tr>\n",
       "      <th>4</th>\n",
       "      <td>4399</td>\n",
       "      <td>431</td>\n",
       "      <td>0.0</td>\n",
       "      <td>0.0</td>\n",
       "      <td>0.0</td>\n",
       "      <td>0.0</td>\n",
       "      <td>0.0</td>\n",
       "      <td>1.0</td>\n",
       "      <td>0.0</td>\n",
       "      <td>0.0</td>\n",
       "      <td>0.0</td>\n",
       "    </tr>\n",
       "  </tbody>\n",
       "</table>\n",
       "</div>"
      ],
      "text/plain": [
       "   Average_income  Paved_Highways    0    1    2    3    4    5    6    7    8\n",
       "0            3571            1976  0.0  0.0  0.0  0.0  0.0  0.0  0.0  1.0  0.0\n",
       "1            4092            1250  0.0  0.0  0.0  0.0  0.0  0.0  0.0  1.0  0.0\n",
       "2            3865            1586  0.0  0.0  0.0  0.0  0.0  0.0  0.0  1.0  0.0\n",
       "3            4870            2351  0.0  0.0  0.0  0.0  1.0  0.0  0.0  0.0  0.0\n",
       "4            4399             431  0.0  0.0  0.0  0.0  0.0  1.0  0.0  0.0  0.0"
      ]
     },
     "execution_count": 12,
     "metadata": {},
     "output_type": "execute_result"
    }
   ],
   "source": [
    "#再将经过独热编码处理后的9列加上。\n",
    "test_data_1.join(ohe_column).head(5)"
   ]
  },
  {
   "cell_type": "code",
   "execution_count": 10,
   "id": "02b55a08",
   "metadata": {
    "ExecuteTime": {
     "end_time": "2023-04-24T04:54:54.293344Z",
     "start_time": "2023-04-24T04:54:54.286302Z"
    }
   },
   "outputs": [],
   "source": [
    "#大功告成！\n",
    "#但是这里还有一个问题，我们经过独热编码所得的列名称始以数字来命名的，非常不方便。\n",
    "#因此，有没有什么办法可以在独热编码进行的同时，自动对新生成的列加以重命名呢？"
   ]
  },
  {
   "cell_type": "code",
   "execution_count": 11,
   "id": "cfc5fc8f",
   "metadata": {
    "ExecuteTime": {
     "end_time": "2023-04-24T04:56:20.914235Z",
     "start_time": "2023-04-24T04:56:20.892973Z"
    }
   },
   "outputs": [
    {
     "data": {
      "text/html": [
       "<div>\n",
       "<style scoped>\n",
       "    .dataframe tbody tr th:only-of-type {\n",
       "        vertical-align: middle;\n",
       "    }\n",
       "\n",
       "    .dataframe tbody tr th {\n",
       "        vertical-align: top;\n",
       "    }\n",
       "\n",
       "    .dataframe thead th {\n",
       "        text-align: right;\n",
       "    }\n",
       "</style>\n",
       "<table border=\"1\" class=\"dataframe\">\n",
       "  <thead>\n",
       "    <tr style=\"text-align: right;\">\n",
       "      <th></th>\n",
       "      <th>Petrol_tax</th>\n",
       "      <th>Average_income</th>\n",
       "      <th>Paved_Highways</th>\n",
       "    </tr>\n",
       "  </thead>\n",
       "  <tbody>\n",
       "    <tr>\n",
       "      <th>0</th>\n",
       "      <td>9.0</td>\n",
       "      <td>3571</td>\n",
       "      <td>1976</td>\n",
       "    </tr>\n",
       "    <tr>\n",
       "      <th>1</th>\n",
       "      <td>9.0</td>\n",
       "      <td>4092</td>\n",
       "      <td>1250</td>\n",
       "    </tr>\n",
       "    <tr>\n",
       "      <th>2</th>\n",
       "      <td>9.0</td>\n",
       "      <td>3865</td>\n",
       "      <td>1586</td>\n",
       "    </tr>\n",
       "    <tr>\n",
       "      <th>3</th>\n",
       "      <td>7.5</td>\n",
       "      <td>4870</td>\n",
       "      <td>2351</td>\n",
       "    </tr>\n",
       "    <tr>\n",
       "      <th>4</th>\n",
       "      <td>8.0</td>\n",
       "      <td>4399</td>\n",
       "      <td>431</td>\n",
       "    </tr>\n",
       "  </tbody>\n",
       "</table>\n",
       "</div>"
      ],
      "text/plain": [
       "   Petrol_tax  Average_income  Paved_Highways\n",
       "0         9.0            3571            1976\n",
       "1         9.0            4092            1250\n",
       "2         9.0            3865            1586\n",
       "3         7.5            4870            2351\n",
       "4         8.0            4399             431"
      ]
     },
     "execution_count": 11,
     "metadata": {},
     "output_type": "execute_result"
    }
   ],
   "source": [
    "#2 pd.get_dummies\n",
    "#pd.get_dummies是一个最好的办法！其具体用法与上述OneHotEncoder类似，因此具体过程就不再赘述啦，大家看代码就可以明白。\n",
    "#首先还是导入与上述内容中一致的初始数据。\n",
    "test_data_2 = pd.read_csv('datasets/onehot_test.csv',names=['Petrol_tax','Average_income','Paved_Highways'],header=0)\n",
    "test_data_2.head(5)"
   ]
  },
  {
   "cell_type": "code",
   "execution_count": 13,
   "id": "cdbf8f8d",
   "metadata": {
    "ExecuteTime": {
     "end_time": "2023-04-24T04:57:08.485308Z",
     "start_time": "2023-04-24T04:57:08.468985Z"
    }
   },
   "outputs": [
    {
     "data": {
      "text/html": [
       "<div>\n",
       "<style scoped>\n",
       "    .dataframe tbody tr th:only-of-type {\n",
       "        vertical-align: middle;\n",
       "    }\n",
       "\n",
       "    .dataframe tbody tr th {\n",
       "        vertical-align: top;\n",
       "    }\n",
       "\n",
       "    .dataframe thead th {\n",
       "        text-align: right;\n",
       "    }\n",
       "</style>\n",
       "<table border=\"1\" class=\"dataframe\">\n",
       "  <thead>\n",
       "    <tr style=\"text-align: right;\">\n",
       "      <th></th>\n",
       "      <th>Average_income</th>\n",
       "      <th>Paved_Highways</th>\n",
       "      <th>Petrol_tax_5.0</th>\n",
       "      <th>Petrol_tax_6.0</th>\n",
       "      <th>Petrol_tax_6.58</th>\n",
       "      <th>Petrol_tax_7.0</th>\n",
       "      <th>Petrol_tax_7.5</th>\n",
       "      <th>Petrol_tax_8.0</th>\n",
       "      <th>Petrol_tax_8.5</th>\n",
       "      <th>Petrol_tax_9.0</th>\n",
       "      <th>Petrol_tax_10.0</th>\n",
       "    </tr>\n",
       "  </thead>\n",
       "  <tbody>\n",
       "    <tr>\n",
       "      <th>0</th>\n",
       "      <td>3571</td>\n",
       "      <td>1976</td>\n",
       "      <td>0</td>\n",
       "      <td>0</td>\n",
       "      <td>0</td>\n",
       "      <td>0</td>\n",
       "      <td>0</td>\n",
       "      <td>0</td>\n",
       "      <td>0</td>\n",
       "      <td>1</td>\n",
       "      <td>0</td>\n",
       "    </tr>\n",
       "    <tr>\n",
       "      <th>1</th>\n",
       "      <td>4092</td>\n",
       "      <td>1250</td>\n",
       "      <td>0</td>\n",
       "      <td>0</td>\n",
       "      <td>0</td>\n",
       "      <td>0</td>\n",
       "      <td>0</td>\n",
       "      <td>0</td>\n",
       "      <td>0</td>\n",
       "      <td>1</td>\n",
       "      <td>0</td>\n",
       "    </tr>\n",
       "    <tr>\n",
       "      <th>2</th>\n",
       "      <td>3865</td>\n",
       "      <td>1586</td>\n",
       "      <td>0</td>\n",
       "      <td>0</td>\n",
       "      <td>0</td>\n",
       "      <td>0</td>\n",
       "      <td>0</td>\n",
       "      <td>0</td>\n",
       "      <td>0</td>\n",
       "      <td>1</td>\n",
       "      <td>0</td>\n",
       "    </tr>\n",
       "    <tr>\n",
       "      <th>3</th>\n",
       "      <td>4870</td>\n",
       "      <td>2351</td>\n",
       "      <td>0</td>\n",
       "      <td>0</td>\n",
       "      <td>0</td>\n",
       "      <td>0</td>\n",
       "      <td>1</td>\n",
       "      <td>0</td>\n",
       "      <td>0</td>\n",
       "      <td>0</td>\n",
       "      <td>0</td>\n",
       "    </tr>\n",
       "    <tr>\n",
       "      <th>4</th>\n",
       "      <td>4399</td>\n",
       "      <td>431</td>\n",
       "      <td>0</td>\n",
       "      <td>0</td>\n",
       "      <td>0</td>\n",
       "      <td>0</td>\n",
       "      <td>0</td>\n",
       "      <td>1</td>\n",
       "      <td>0</td>\n",
       "      <td>0</td>\n",
       "      <td>0</td>\n",
       "    </tr>\n",
       "  </tbody>\n",
       "</table>\n",
       "</div>"
      ],
      "text/plain": [
       "   Average_income  Paved_Highways  Petrol_tax_5.0  Petrol_tax_6.0  \\\n",
       "0            3571            1976               0               0   \n",
       "1            4092            1250               0               0   \n",
       "2            3865            1586               0               0   \n",
       "3            4870            2351               0               0   \n",
       "4            4399             431               0               0   \n",
       "\n",
       "   Petrol_tax_6.58  Petrol_tax_7.0  Petrol_tax_7.5  Petrol_tax_8.0  \\\n",
       "0                0               0               0               0   \n",
       "1                0               0               0               0   \n",
       "2                0               0               0               0   \n",
       "3                0               0               1               0   \n",
       "4                0               0               0               1   \n",
       "\n",
       "   Petrol_tax_8.5  Petrol_tax_9.0  Petrol_tax_10.0  \n",
       "0               0               1                0  \n",
       "1               0               1                0  \n",
       "2               0               1                0  \n",
       "3               0               0                0  \n",
       "4               0               0                0  "
      ]
     },
     "execution_count": 13,
     "metadata": {},
     "output_type": "execute_result"
    }
   ],
   "source": [
    "#进行独热编码并看看结果。\n",
    "test_data_2_ohe=pd.get_dummies(test_data_2,columns=['Petrol_tax'])\n",
    "test_data_2_ohe.head(5)"
   ]
  },
  {
   "cell_type": "code",
   "execution_count": null,
   "id": "045fc835",
   "metadata": {},
   "outputs": [],
   "source": [
    "#最终结果中，列名称可以说是非常醒目，同时，\n",
    "#共有2+9列数据，自动删除了原本的'Petrol_tax'列，实现了“独热编码”“新列重命名”与“原始列删除”，可谓一举三得，简直是太方便啦~"
   ]
  }
 ],
 "metadata": {
  "kernelspec": {
   "display_name": "cudaOCRpy37",
   "language": "python",
   "name": "cudaocrpy37"
  },
  "language_info": {
   "codemirror_mode": {
    "name": "ipython",
    "version": 3
   },
   "file_extension": ".py",
   "mimetype": "text/x-python",
   "name": "python",
   "nbconvert_exporter": "python",
   "pygments_lexer": "ipython3",
   "version": "3.7.12"
  }
 },
 "nbformat": 4,
 "nbformat_minor": 5
}
