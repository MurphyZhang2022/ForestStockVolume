{
 "cells": [
  {
   "cell_type": "code",
   "execution_count": 1,
   "id": "731ffa18",
   "metadata": {
    "ExecuteTime": {
     "end_time": "2023-04-24T05:11:50.519642Z",
     "start_time": "2023-04-24T05:11:50.505148Z"
    }
   },
   "outputs": [],
   "source": [
    "#基于Python TensorFlow Estimator DNNRegressor的深度学习回归\n"
   ]
  },
  {
   "cell_type": "code",
   "execution_count": 2,
   "id": "bb8a7c23",
   "metadata": {
    "ExecuteTime": {
     "end_time": "2023-04-24T05:53:05.476426Z",
     "start_time": "2023-04-24T05:53:04.290480Z"
    }
   },
   "outputs": [],
   "source": [
    "#1 导入相关的库和包\n",
    "import os\n",
    "import openpyxl\n",
    "import numpy as np\n",
    "import pandas as pd\n",
    "import scipy.stats as stats\n",
    "import matplotlib.pyplot as plt\n",
    "\n",
    "from sklearn import metrics\n",
    "from sklearn.model_selection import train_test_split"
   ]
  },
  {
   "cell_type": "code",
   "execution_count": 3,
   "id": "4c08b2b8",
   "metadata": {
    "ExecuteTime": {
     "end_time": "2023-04-24T05:53:09.455424Z",
     "start_time": "2023-04-24T05:53:07.820209Z"
    }
   },
   "outputs": [],
   "source": [
    "#基于TensorFlow的代码往往会输出较多的日志信息，从而使得我们对代码执行情况的了解受到一定影响。代码输出的日志信息有四种，\n",
    "#依据严重程度由低到高排序：INFO（通知）<WARNING（警告）<ERROR（错误）<FATAL（致命的）；我们可以通过：\n",
    "import os \n",
    "os.environ['TF_CPP_MIN_LOG_LEVEL']='3'\n",
    "#对TensorFlow的输出日志信息加以约束，“3”代表只输出FATAL信息。这句代码需放在 import tensorflow的前面\n",
    "import tensorflow as tf"
   ]
  },
  {
   "cell_type": "code",
   "execution_count": 4,
   "id": "981584ec",
   "metadata": {
    "ExecuteTime": {
     "end_time": "2023-04-24T05:53:09.475850Z",
     "start_time": "2023-04-24T05:53:09.455424Z"
    }
   },
   "outputs": [],
   "source": [
    "#2 参数配置\n",
    "#深度学习代码一大特点即为具有较多的参数需要我们手动定义。为避免调参时上下翻找，我们可以将主要的参数集中在一起，方便我们后期调整。\n",
    "# 将各类变量放在一个位置集中定义，十分有利于机器学习等变量较多的代码\n",
    "\n",
    "MyModelPath=\"02_DNNModle/\" # 确定每一次训练所得模型保存的位置\n",
    "MyDataPath=\"00_Data/AllDataAll.csv\" # 确定输入数据的位置\n",
    "MyResultSavePath=\"03_OtherResult/EvalResult54.xlsx\" # 确定模型精度结果（RMSE等）与模型参数保存的位置\n",
    "\n",
    "TestSize=0.2 # 确定数据中测试集所占比例\n",
    "RandomSeed=np.random.randint(low=24,high=25) # 确定划分训练集与测试集的随机数种子\n",
    "OptMethod='Adam' # 确定模型所用的优化方法\n",
    "LearningRate=0.01 # 确定学习率\n",
    "DecayStep=200 # 确定学习率下降的步数\n",
    "DecayRate=0.96 # 确定学习率下降比率\n",
    "HiddenLayer=[64,128] # 确定隐藏层数量与每一层对应的神经元数量\n",
    "ActFun='tf.nn.relu' # 确定激活函数\n",
    "Dropout=0.3 # 确定Dropout的值\n",
    "LossReduction='tf.compat.v1.ReductionV2.SUM_OVER_BATCH_SIZE' # 指定每个批次训练误差的减小方法\n",
    "BatchNorm='False' # 确定是否使用Batch Normalizing\n",
    "TrainBatchSize=110 # 确定训练数据一个Batch的大小\n",
    "TrainStep=3000 # 确定训练数据的Step数量\n",
    "EvalBatchSize=1 # 确定验证数据一个Batch的大小\n",
    "PredictBatchSize=1 # 确定预测数据（即测试集）一个Batch的大小"
   ]
  },
  {
   "cell_type": "code",
   "execution_count": 6,
   "id": "46bf3408",
   "metadata": {
    "ExecuteTime": {
     "end_time": "2023-04-24T06:02:30.100677Z",
     "start_time": "2023-04-24T06:02:30.082248Z"
    }
   },
   "outputs": [],
   "source": [
    "#3 原有模型删除\n",
    "#DNNRegressor每执行一次，便会在指定路径中保存当前运行的模型。\n",
    "#为保证下一次模型保存时不受上一次模型运行结果干扰，我们可以将模型文件夹内的全部文件删除。\n",
    "\n",
    "#定义DeleteOldModel函数，删除上一次运行所保存的模型\n",
    "def DeleteOldModel(ModelPath):\n",
    "    AllFileName=os.listdir(ModelPath) # 获取ModelPath路径下全部文件与文件夹\n",
    "    for i in AllFileName:\n",
    "        NewPath=os.path.join(ModelPath,i) # 分别将所获取的文件或文件夹名称与ModelPath路径组合\n",
    "        if os.path.isdir(NewPath): # 若组合后的新路径是一个文件夹\n",
    "            DeleteOldModel(NewPath) # 递归调用DeleteOldModel函数\n",
    "        else:\n",
    "            os.remove(NewPath) # 若不是一个新的文件夹，而是一个文件，那么就删除\n",
    "# 调用DeleteOldModel函数，删除上一次运行所保存的模型\n",
    "DeleteOldModel(MyModelPath)\n",
    "#需要注意，以上代码仅删除指定路径下的文件，文件夹不删除。大家如果需要将文件夹也同时删除，修改以上代码函数中的后面几句即可。"
   ]
  },
  {
   "cell_type": "code",
   "execution_count": null,
   "id": "11f6bc35",
   "metadata": {},
   "outputs": [],
   "source": [
    "#4 数据导入与数据划分"
   ]
  }
 ],
 "metadata": {
  "kernelspec": {
   "display_name": "cudaOCRpy37",
   "language": "python",
   "name": "cudaocrpy37"
  },
  "language_info": {
   "codemirror_mode": {
    "name": "ipython",
    "version": 3
   },
   "file_extension": ".py",
   "mimetype": "text/x-python",
   "name": "python",
   "nbconvert_exporter": "python",
   "pygments_lexer": "ipython3",
   "version": "3.7.12"
  }
 },
 "nbformat": 4,
 "nbformat_minor": 5
}
