{
 "cells": [
  {
   "cell_type": "code",
   "execution_count": 16,
   "id": "731ffa18",
   "metadata": {
    "ExecuteTime": {
     "end_time": "2023-04-24T15:35:36.409937Z",
     "start_time": "2023-04-24T15:35:36.392785Z"
    },
    "code_folding": []
   },
   "outputs": [],
   "source": [
    "#基于Python TensorFlow Estimator DNNRegressor的深度学习回归\n",
    "#1 导入相关的库和包\n",
    "import openpyxl\n",
    "import numpy as np\n",
    "import pandas as pd\n",
    "import scipy.stats as stats\n",
    "import matplotlib.pyplot as plt\n",
    "\n",
    "from sklearn import metrics\n",
    "from sklearn.model_selection import train_test_split\n",
    "\n",
    "import os \n",
    "os.environ['TF_CPP_MIN_LOG_LEVEL']='3'\n",
    "import tensorflow as tf  #用最新的版本 2.11.0 在 #7时会报错，用2.4.1就没有报错了\n",
    "\n",
    "#基于TensorFlow的代码往往会输出较多的日志信息，从而使得我们对代码执行情况的了解受到一定影响。代码输出的日志信息有四种，\n",
    "#依据严重程度由低到高排序：INFO（通知）<WARNING（警告）<ERROR（错误）<FATAL（致命的）；\n",
    "#通过os.environ对TensorFlow的输出日志信息加以约束，“3”代表只输出FATAL信息。这句代码需放在 import tensorflow的前面"
   ]
  },
  {
   "cell_type": "code",
   "execution_count": 20,
   "id": "981584ec",
   "metadata": {
    "ExecuteTime": {
     "end_time": "2023-04-24T15:36:11.474080Z",
     "start_time": "2023-04-24T15:36:11.447993Z"
    },
    "code_folding": [
     2
    ]
   },
   "outputs": [],
   "source": [
    "#函数functions定义区\n",
    "import shutil\n",
    "#DeleteOldModel函数，删除上一次运行所保存的模型\n",
    "#需要注意，以下代码仅删除指定路径下的文件，文件夹不删除。大家如果需要将文件夹也同时删除，修改以上代码函数中的后面几句即可。\n",
    "def DeleteOldModel(ModelPath):\n",
    "    AllFileName=os.listdir(ModelPath) # 获取ModelPath路径下全部文件与文件夹\n",
    "    for i in AllFileName:\n",
    "        NewPath=os.path.join(ModelPath,i) # 分别将所获取的文件或文件夹名称与ModelPath路径组合\n",
    "        if os.path.isdir(NewPath): # 若组合后的新路径是一个文件夹\n",
    "            DeleteOldModel(NewPath) # 递归调用DeleteOldModel函数\n",
    "        else:\n",
    "            #os.chmod(NewPath,0o755)\n",
    "            os.remove(NewPath) # 若不是一个新的文件夹，而是一个文件，那么就删除\n",
    "            os.system('del '+NewPath)\n",
    "\n",
    "# LoadData函数，加载全部数据          \n",
    "def LoadData(DataPath):\n",
    "    MyData = pd.read_csv(DataPath, names=['Petrol_tax','Average_income','Paved_Highways','Population_Driver_licence',\n",
    "                                      'Petrol_Consumption'],header=0) #加载DataPath路径所指定的数据，names中的内容为各列的名称\n",
    "    return MyData\n",
    "\n",
    "# InputFun函数，训练数据与验证数据所用的Input函数\n",
    "def InputFun(Features,Labels,Training,BatchSize):\n",
    "    Datasets=tf.data.Dataset.from_tensor_slices((dict(Features),Labels)) # 对数据加以加载\n",
    "    if Training:\n",
    "        Datasets=Datasets.shuffle(1000).repeat() # 对于训练数据，需要打乱（shuffle）、重复（repeat）\n",
    "    return Datasets.batch(BatchSize) # 将经过上述处理后的数据以每次BatchSize个输出\n",
    "\n",
    "# InputFunPredict函数，测试数据所用的Input函数\n",
    "def InputFunPredict(Features,BatchSize):\n",
    "    return tf.data.Dataset.from_tensor_slices(dict(Features)).batch(BatchSize) # 对数据加以加载,以每次BatchSize个输出\n",
    "\n",
    "# AccuracyVerification函数，进行精度验证指标的计算与绘图\n",
    "def AccuracyVerification(PredictLabels,TestLabels):\n",
    "    value=0\n",
    "    PredictValuesList=[]\n",
    "    for k in PredictLabels:\n",
    "        value=k.get('predictions')[0]\n",
    "        PredictValuesList.append(value)\n",
    "    TestLabels=TestLabels.values.tolist()\n",
    "    TestYList=sum(TestLabels,[])\n",
    "    # 以上为获取测试数据的因变量与模型预测所得的因变量\n",
    "    Pearsonr=stats.pearsonr(TestYList,PredictValuesList) # 计算皮尔逊相关系数\n",
    "    R2=metrics.r2_score(TestYList,PredictValuesList) # 计算R方\n",
    "    RMSE=metrics.mean_squared_error(TestYList,PredictValuesList)**0.5 # 计算RMSE\n",
    "    plt.cla()\n",
    "    plt.plot(TestYList,PredictValuesList,'r*')\n",
    "    plt.xlabel('Actual Values')\n",
    "    plt.ylabel('Predicted Values')\n",
    "    # 以上为绘制拟合图像\n",
    "    print('Pearson correlation coefficient is {0}, and RMSE is {1}.'.format(Pearsonr[0],RMSE))\n",
    "    return (Pearsonr[0],R2,RMSE,PredictValuesList)\n",
    "\n",
    "# WriteAccuracy函数，将模型所涉及的参数与最终精度结果保存\n",
    "def WriteAccuracy(*WriteVar):\n",
    "    print(WriteVar)\n",
    "    ExcelData=openpyxl.load_workbook(WriteVar[0])\n",
    "    SheetName=ExcelData.get_sheet_names() # 获取全部Sheet\n",
    "    WriteSheet=ExcelData.get_sheet_by_name(SheetName[0]) # 获取指定Sheet\n",
    "    WriteSheet=ExcelData.active # 激活指定Sheet\n",
    "    MaxRowNum=WriteSheet.max_row # 获取指定Sheet对应第一个空行\n",
    "    for i in range(len(WriteVar)-1):\n",
    "        exec(\"WriteSheet.cell(MaxRowNum+1,i+1).value=WriteVar[i+1]\") # 用exec执行语句，写入信息\n",
    "    ExcelData.save(WriteVar[0]) # 保存文件'''"
   ]
  },
  {
   "cell_type": "code",
   "execution_count": 18,
   "id": "789ccd71",
   "metadata": {
    "ExecuteTime": {
     "end_time": "2023-04-24T15:35:44.057960Z",
     "start_time": "2023-04-24T15:35:44.040518Z"
    },
    "code_folding": []
   },
   "outputs": [],
   "source": [
    "#2 参数配置\n",
    "#深度学习代码一大特点即为具有较多的参数需要我们手动定义。为避免调参时上下翻找，我们可以将主要的参数集中在一起，方便我们后期调整。\n",
    "#将各类变量放在一个位置集中定义，十分有利于机器学习等变量较多的代码\n",
    "\n",
    "MyDataPath=\"00_Data/AllDataAll.csv\" # 确定输入数据的位置\n",
    "MyModelPath=\"02_DNNModle/\" # 确定每一次训练所得模型保存的位置\n",
    "MyResultSavePath=\"03_OtherResult/EvalResult54.xlsx\" # 确定模型精度结果（RMSE等）与模型参数保存的位置\n",
    "\n",
    "TestSize=0.2 # 确定数据中测试集所占比例\n",
    "RandomSeed=np.random.randint(low=24,high=25) # 确定划分训练集与测试集的随机数种子\n",
    "OptMethod='Adam' # 确定模型所用的优化方法\n",
    "LearningRate=0.01 # 确定学习率\n",
    "DecayStep=200 # 确定学习率下降的步数\n",
    "DecayRate=0.96 # 确定学习率下降比率\n",
    "HiddenLayer=[64,128] # 确定隐藏层数量与每一层对应的神经元数量\n",
    "ActFun='tf.nn.relu' # 确定激活函数\n",
    "Dropout=0.3 # 确定Dropout的值\n",
    "LossReduction='tf.compat.v1.ReductionV2.SUM_OVER_BATCH_SIZE' # 指定每个批次训练误差的减小方法\n",
    "BatchNorm='False' # 确定是否使用Batch Normalizing\n",
    "TrainBatchSize=110 # 确定训练数据一个Batch的大小\n",
    "TrainStep=3000 # 确定训练数据的Step数量\n",
    "EvalBatchSize=1 # 确定验证数据一个Batch的大小\n",
    "PredictBatchSize=1 # 确定预测数据（即测试集）一个Batch的大小"
   ]
  },
  {
   "cell_type": "code",
   "execution_count": 21,
   "id": "46bf3408",
   "metadata": {
    "ExecuteTime": {
     "end_time": "2023-04-24T15:36:18.168433Z",
     "start_time": "2023-04-24T15:36:15.168199Z"
    },
    "code_folding": [
     0
    ]
   },
   "outputs": [],
   "source": [
    "#3 原有模型删除\n",
    "#DNNRegressor每执行一次，便会在指定路径中保存当前运行的模型。\n",
    "#为保证下一次模型保存时不受上一次模型运行结果干扰，我们可以将模型文件夹内的全部文件删除。\n",
    "\n",
    "# 调用DeleteOldModel函数，删除上一次运行所保存的模型\n",
    "DeleteOldModel(MyModelPath)"
   ]
  },
  {
   "cell_type": "code",
   "execution_count": 22,
   "id": "11f6bc35",
   "metadata": {
    "ExecuteTime": {
     "end_time": "2023-04-24T15:36:31.222270Z",
     "start_time": "2023-04-24T15:36:31.200497Z"
    },
    "code_folding": [
     0
    ]
   },
   "outputs": [],
   "source": [
    "#4 数据导入与数据划分\n",
    "#初始数据集划分为训练集与测试集，数据训练集与测试集的划分在机器学习、深度学习中是不可或缺的作用\n",
    "#数据保存在csv文件中，因此可以用pd.read_csv直接读取。\n",
    "#其中，数据的每一列是一个特征，每一行是全部特征与因变量（就是下面的Yield）组合成的样本。\n",
    "    \n",
    "#初始数据处理\n",
    "AllXY = LoadData(MyDataPath) # 调用LoadData函数，获取数据\n",
    "#print(AllXY)\n",
    "Label={\"Petrol_Consumption\":AllXY.pop(\"Petrol_Consumption\")} # 将因变量从全部数据中提取出\n",
    "AllX,AllY=AllXY,(pd.DataFrame(Label)) # 将自变量与因变量分离\n",
    "#print(AllY)\n",
    "\n",
    "#划分数据训练集与测试集\n",
    "TrainX, TestX, TrainY,TestY= train_test_split(AllX,\n",
    "                                              AllY,\n",
    "                                              test_size=TestSize,  # 指定数据中测试集所占比例\n",
    "                                              random_state=RandomSeed) # 指定划分训练集与测试集的随机数种子\n",
    "#print(TestY)"
   ]
  },
  {
   "cell_type": "code",
   "execution_count": 23,
   "id": "f5c31797",
   "metadata": {
    "ExecuteTime": {
     "end_time": "2023-04-24T15:36:32.976790Z",
     "start_time": "2023-04-24T15:36:32.959862Z"
    },
    "code_folding": [
     0
    ]
   },
   "outputs": [],
   "source": [
    "#5 Feature Columns定义\n",
    "#Feature Columns就是一个桥梁，联系你的初始数据与模型；\n",
    "#其好比一个名单，模型拿着这个名单到你的数据（即#4部分你导入的数据）中按列的名称一一搜索，\n",
    "#若初始数据中的某列名称在Feature Columns里，那么模型就会把初始数据中这一列的数据全部拿到自己这里，进行训练。\n",
    "#因为我们是希望导入数据的全部特征，那么可以直接在全部数据的自变量中循环，将全部特征的名称导入Feature Columns。\n",
    "#在这里需要注意的是，只有连续数值变量才可以用tf.feature_column.numeric_column处理；若是类别变量可以参考：\n",
    "#https://blog.csdn.net/zhebushibiaoshifu/article/details/115335441。\n",
    "\n",
    "# estimator接口中的模型需要用“Feature columns”对象作为输入数据，只有这样模型才知道读取哪些数据\n",
    "FeatureColumn=[] # 定义一个新的“Feature columns”对象\n",
    "for key in AllX.keys():\n",
    "    FeatureColumn.append(tf.feature_column.numeric_column(key=key)) # 将全部因变量数据（需要均为连续变量）导入"
   ]
  },
  {
   "cell_type": "code",
   "execution_count": 24,
   "id": "74767a0c",
   "metadata": {
    "ExecuteTime": {
     "end_time": "2023-04-24T15:36:34.852771Z",
     "start_time": "2023-04-24T15:36:34.839769Z"
    },
    "code_folding": [
     0
    ]
   },
   "outputs": [
    {
     "name": "stdout",
     "output_type": "stream",
     "text": [
      "INFO:tensorflow:Using default config.\n",
      "INFO:tensorflow:Using config: {'_model_dir': '02_DNNModle/', '_tf_random_seed': None, '_save_summary_steps': 100, '_save_checkpoints_steps': None, '_save_checkpoints_secs': 600, '_session_config': allow_soft_placement: true\n",
      "graph_options {\n",
      "  rewrite_options {\n",
      "    meta_optimizer_iterations: ONE\n",
      "  }\n",
      "}\n",
      ", '_keep_checkpoint_max': 5, '_keep_checkpoint_every_n_hours': 10000, '_log_step_count_steps': 100, '_train_distribute': None, '_device_fn': None, '_protocol': None, '_eval_distribute': None, '_experimental_distribute': None, '_experimental_max_worker_delay_secs': None, '_session_creation_timeout_secs': 7200, '_checkpoint_save_graph_def': True, '_service': None, '_cluster_spec': ClusterSpec({}), '_task_type': 'worker', '_task_id': 0, '_global_id_in_cluster': 0, '_master': '', '_evaluation_master': '', '_is_chief': True, '_num_ps_replicas': 0, '_num_worker_replicas': 1}\n"
     ]
    }
   ],
   "source": [
    "#6 模型优化方法构建与模型结构构建\n",
    "#模型优化方法即模型中的optimizer，其可以在模型结构构建时输入；\n",
    "#但有时优化方法较为复杂（例如引入了学习率下降），那么在构建模型时配置优化方法的话就会有些不方便。因此我们首先构建模型优化方法。\n",
    "\n",
    "# 定义模型优化方法\n",
    "# Optimizer=OptMethod # 优化方法选用OptMethod所指定的方法  第一个\n",
    "# Optimizer=OptMethod # 优化方法选用OptMethod所指定的方法\n",
    "Optimizer=lambda:tf.keras.optimizers.Adam(\n",
    "    learning_rate=tf.compat.v1.train.exponential_decay(learning_rate=LearningRate, # 初始学习率\n",
    "                                                       global_step=tf.compat.v1.train.get_global_step(),\n",
    "                                                       # 全局步数，用以计算已经衰减后的学习率\n",
    "                                                       # get_global_step()函数自动获取当前的已经执行的步数\n",
    "                                                       decay_steps=DecayStep, # 学习率下降完成的指定步数\n",
    "                                                       decay_rate=DecayRate # 衰减率\n",
    "                                                       ) # 选用基于学习率指数下降的Adam方法，此举有助于降低过拟合风险\n",
    "                                                         # 这一函数返回每次对应的学习率\n",
    "    )\n",
    "\n",
    "#以上代码中有两个Optimizer=，第一个是直接输入优化方法的名称即可，名称包括：'Adagrad', 'Adam', 'Ftrl', 'RMSProp', SGD'；默认为Adagrad。\n",
    "#第二个是在选择了优化方法的基础上，配置其他信息。例如第二个，其代表着学习率指数下降的Adam优化方法。\n",
    "#其中，tf.compat.v1.train.exponential_decay可视作一个计算每次训练学习率的函数，他返回的是每一次对应的学习率。\n",
    "#可能这么说不太好理解，看这个公式：其返回值为 \n",
    "#   learning_rate *decay_rate^(global_step / decay_steps)，是不是就明白啦。\n",
    "#我们选择第二个优化方法，因此把第一个注释掉。\n",
    "\n",
    "#随后，我们定义模型的结构\n",
    "# 基于DNNRegressor构建深度学习模型\n",
    "DNNModel=tf.estimator.DNNRegressor(feature_columns=FeatureColumn, # 指定模型所用的“Feature columns”对象\n",
    "                                   hidden_units=HiddenLayer, # 指定隐藏层数量与每一层对应的神经元数量\n",
    "                                   optimizer=Optimizer, # 指定模型所用的优化方法\n",
    "                                   activation_fn=eval(ActFun), # 指定激活函数\n",
    "                                   dropout=Dropout,  # 指定Dropout的值\n",
    "                                   label_dimension=1, # 输出数据的维度，即因变量的个数\n",
    "                                   model_dir=MyModelPath, # 指定每一次训练所得模型保存的位置\n",
    "                                   #loss_reduction=eval(LossReduction), # 指定每个批次训练误差的减小方法\n",
    "                                   batch_norm=eval(BatchNorm) # 指定是否使用Batch Normalizing\n",
    "                                  )\n",
    "\n",
    "#其中，我把loss_reduction注释掉，是因为可能由于TensorFlow版本的问题，其总是报错，所以就用默认的值就好；\n",
    "#而最后一个batch_norm，决定了是否进行Batch Normalizing。\n",
    "#Batch Normalizing可以保持深度神经网络在每一层保持相同分布，从而加快网络收敛与增强网络稳固性。\n",
    "#其它参数可以参考：\n",
    "#https://www.tensorflow.org/api_docs/python/tf/estimator/DNNRegressor；\n",
    "#https://www.tensorflow.org/api_docs/python/tf/nn\n",
    "#tf.compat.v1.logging.set_verbosity(tf.compat.v1.logging.INFO) # 将INFO级别的日志信息显示到屏幕"
   ]
  },
  {
   "cell_type": "code",
   "execution_count": 25,
   "id": "7d950a04",
   "metadata": {
    "ExecuteTime": {
     "end_time": "2023-04-24T15:36:50.262263Z",
     "start_time": "2023-04-24T15:36:44.216276Z"
    },
    "code_folding": []
   },
   "outputs": [
    {
     "name": "stdout",
     "output_type": "stream",
     "text": [
      "INFO:tensorflow:Calling model_fn.\n",
      "INFO:tensorflow:Done calling model_fn.\n",
      "INFO:tensorflow:Create CheckpointSaverHook.\n",
      "INFO:tensorflow:Graph was finalized.\n",
      "INFO:tensorflow:Running local_init_op.\n",
      "INFO:tensorflow:Done running local_init_op.\n",
      "INFO:tensorflow:Calling checkpoint listeners before saving checkpoint 0...\n",
      "INFO:tensorflow:Saving checkpoints for 0 into 02_DNNModle/model.ckpt.\n",
      "INFO:tensorflow:Calling checkpoint listeners after saving checkpoint 0...\n",
      "INFO:tensorflow:loss = 3223591.5, step = 0\n",
      "INFO:tensorflow:global_step/sec: 530.326\n",
      "INFO:tensorflow:loss = 39270.71, step = 100 (0.190 sec)\n",
      "INFO:tensorflow:global_step/sec: 675.676\n",
      "INFO:tensorflow:loss = 26762.889, step = 200 (0.148 sec)\n",
      "INFO:tensorflow:global_step/sec: 684.935\n",
      "INFO:tensorflow:loss = 29559.348, step = 300 (0.147 sec)\n",
      "INFO:tensorflow:global_step/sec: 675.672\n",
      "INFO:tensorflow:loss = 25932.375, step = 400 (0.147 sec)\n",
      "INFO:tensorflow:global_step/sec: 689.655\n",
      "INFO:tensorflow:loss = 21757.336, step = 500 (0.145 sec)\n",
      "INFO:tensorflow:global_step/sec: 689.655\n",
      "INFO:tensorflow:loss = 22561.281, step = 600 (0.146 sec)\n",
      "INFO:tensorflow:global_step/sec: 684.932\n",
      "INFO:tensorflow:loss = 20562.307, step = 700 (0.146 sec)\n",
      "INFO:tensorflow:global_step/sec: 675.677\n",
      "INFO:tensorflow:loss = 20054.95, step = 800 (0.147 sec)\n",
      "INFO:tensorflow:global_step/sec: 684.931\n",
      "INFO:tensorflow:loss = 16678.096, step = 900 (0.147 sec)\n",
      "INFO:tensorflow:global_step/sec: 680.232\n",
      "INFO:tensorflow:loss = 22663.266, step = 1000 (0.146 sec)\n",
      "INFO:tensorflow:global_step/sec: 666.705\n",
      "INFO:tensorflow:loss = 21566.445, step = 1100 (0.150 sec)\n",
      "INFO:tensorflow:global_step/sec: 653.596\n",
      "INFO:tensorflow:loss = 27718.693, step = 1200 (0.154 sec)\n",
      "INFO:tensorflow:global_step/sec: 653.574\n",
      "INFO:tensorflow:loss = 20905.057, step = 1300 (0.152 sec)\n",
      "INFO:tensorflow:global_step/sec: 657.874\n",
      "INFO:tensorflow:loss = 16526.402, step = 1400 (0.153 sec)\n",
      "INFO:tensorflow:global_step/sec: 671.186\n",
      "INFO:tensorflow:loss = 20999.76, step = 1500 (0.149 sec)\n",
      "INFO:tensorflow:global_step/sec: 675.676\n",
      "INFO:tensorflow:loss = 19114.078, step = 1600 (0.147 sec)\n",
      "INFO:tensorflow:global_step/sec: 684.932\n",
      "INFO:tensorflow:loss = 21926.762, step = 1700 (0.146 sec)\n",
      "INFO:tensorflow:global_step/sec: 689.659\n",
      "INFO:tensorflow:loss = 20014.82, step = 1800 (0.146 sec)\n",
      "INFO:tensorflow:global_step/sec: 671.139\n",
      "INFO:tensorflow:loss = 19532.172, step = 1900 (0.148 sec)\n",
      "INFO:tensorflow:global_step/sec: 680.272\n",
      "INFO:tensorflow:loss = 19176.23, step = 2000 (0.147 sec)\n",
      "INFO:tensorflow:global_step/sec: 680.272\n",
      "INFO:tensorflow:loss = 19145.861, step = 2100 (0.147 sec)\n",
      "INFO:tensorflow:global_step/sec: 666.67\n",
      "INFO:tensorflow:loss = 19898.037, step = 2200 (0.150 sec)\n",
      "INFO:tensorflow:global_step/sec: 666.664\n",
      "INFO:tensorflow:loss = 18839.344, step = 2300 (0.150 sec)\n",
      "INFO:tensorflow:global_step/sec: 666.665\n",
      "INFO:tensorflow:loss = 21714.893, step = 2400 (0.150 sec)\n",
      "INFO:tensorflow:global_step/sec: 666.669\n",
      "INFO:tensorflow:loss = 22011.078, step = 2500 (0.151 sec)\n",
      "INFO:tensorflow:global_step/sec: 684.931\n",
      "INFO:tensorflow:loss = 20648.982, step = 2600 (0.146 sec)\n",
      "INFO:tensorflow:global_step/sec: 680.272\n",
      "INFO:tensorflow:loss = 24731.537, step = 2700 (0.146 sec)\n",
      "INFO:tensorflow:global_step/sec: 675.677\n",
      "INFO:tensorflow:loss = 26052.262, step = 2800 (0.148 sec)\n",
      "INFO:tensorflow:global_step/sec: 653.595\n",
      "INFO:tensorflow:loss = 20193.389, step = 2900 (0.153 sec)\n",
      "INFO:tensorflow:Calling checkpoint listeners before saving checkpoint 3000...\n",
      "INFO:tensorflow:Saving checkpoints for 3000 into 02_DNNModle/model.ckpt.\n",
      "INFO:tensorflow:Calling checkpoint listeners after saving checkpoint 3000...\n",
      "INFO:tensorflow:Loss for final step: 18686.55.\n"
     ]
    },
    {
     "data": {
      "text/plain": [
       "<tensorflow_estimator.python.estimator.canned.dnn.DNNRegressorV2 at 0x1e66dbed748>"
      ]
     },
     "execution_count": 25,
     "metadata": {},
     "output_type": "execute_result"
    }
   ],
   "source": [
    "#7 模型训练\n",
    "#训练模型这一部分，我认为反而比模型的构建可能还难理解一些。我们先看代码\n",
    "# 基于训练数据训练模型\n",
    "DNNModel.train(input_fn=lambda:InputFun(TrainX, TrainY,True,TrainBatchSize),#调用InputFun函数；InputFun函数返回“tf.data.Dataset”对象，这个对象才可以被train函数识别并带入模型；由于InputFun函数每次返回BatchSize大小的数据个数，因此需要多次执行，前面需要加lambda              \n",
    "               steps=TrainStep) # 指定模型训练的步数\n",
    "    \n",
    "#那我们首先就看input function——也就是代码中的InputFun函数。其实这个函数的用处很简单，用官网的话说，\n",
    "#其就是用来输入模型支持的数据类型的——只有经过input function处理后，数据才可以被DNNRegressor识别。\n",
    "#听上去这么厉害，它到底是如何操作的呢？\n",
    "#很简单，它只需要将初始的数据转换为特定的格式即可，这个格式是一个元组（tuple），这个元组有两个元素：\n",
    "#一就是features，是一个字典。这个字典的每一个键是每一个特征的名称，\n",
    "#就比如用植物特性对花的种类加以区分，那么花的“叶长”“叶片厚度”等等就是一个个特征的名称，也就是这里的一个个“键”；\n",
    "#而这个字典的值，就是这个特征对应的全部样本的数值组成的数组。\n",
    "#二就是label，是全部样本对应的label，也就是因变量。\n",
    "#不知道大家有没有理解，我们就举一个简单的例子。\n",
    "#假如我们用两个地方的温度与降水预测这两个地方的作物产量：其温度分别为10 ℃、20 ℃，降水分别为15 mm，25 mm，\n",
    "#作物产量分别为100千克每公顷，150千克每公顷——那么tuple由两个部分组成：\n",
    "#tuple=(features,label)\n",
    "#features={'温度':np.array([10,20]),'降水':np.array([15,25])}\n",
    "#label=np.array([100,150])\n",
    "#tuple=(features,label)\n",
    "#print(tuple)\n",
    "#理解了之后，我们继续看InputFun函数。\n",
    "#首先，tf.data.Dataset.from_tensor_slices用来将输入的数据加载并转换为Datase的形式；\n",
    "#随后，如果是训练状态下，那么数据会进行打乱.shuffle(1000)——相当于对数据加以洗牌，防止初始数据具有一定的趋势。\n",
    "#例如如果我们做分类，其中初始数据的前80%都是第一类，后20%都是第二类，\n",
    "#那么如果我们不打乱数据，会使得用前80%数据训练出来的结果都是第一类（即模型只认识第一类），\n",
    "#在后20%进行测试时，所得结果也全都为第一类；所以要打乱。\n",
    "#其中的1000是buffer_size参数，这个数据必须要比你的数据样本个数大。至于.shuffle(1000)这个函数的原理我一直没有搞明白，大家感兴趣的话可以了解一下：\n",
    "#https://www.tensorflow.org/api_docs/python/tf/data/Dataset#shuffle。\n",
    "#.repeat()则是对数据集加以重复，之所以要重复，是因为我们需要对全部数据训练好几轮（即好几个Epoch），因此要对初始数据加以重复。\n",
    "#随后，用.batch()函数输出BatchSize个数据，也就是一批数据；其中BatchSize就是每一批数据的个数。\n",
    "#以上就是InputFun函数。\n",
    "#可以这么理解：在train函数中，只有一个参数input_fn；\n",
    "#而这个参数的输入，又是一个新的函数——这个新的函数就是大名鼎鼎的input function了,参考上面。\n",
    "#再看train函数：大家也看出来了，这个InputFun函数是每次输出一批（BatchSize个）数据；\n",
    "#而我们训练的时候，肯定是要一批一批不停输入数据的，因此这就解释了为什么InputFun函数前有一个lambda——因为InputFun函数\n",
    "#要把处理后的数据分多次传给train。"
   ]
  },
  {
   "cell_type": "code",
   "execution_count": 26,
   "id": "14555c9e",
   "metadata": {
    "ExecuteTime": {
     "end_time": "2023-04-24T15:36:57.415721Z",
     "start_time": "2023-04-24T15:36:56.856000Z"
    },
    "code_folding": [
     0
    ]
   },
   "outputs": [
    {
     "name": "stdout",
     "output_type": "stream",
     "text": [
      "INFO:tensorflow:Calling model_fn.\n",
      "INFO:tensorflow:Done calling model_fn.\n",
      "INFO:tensorflow:Starting evaluation at 2023-04-24T23:36:57Z\n",
      "INFO:tensorflow:Graph was finalized.\n",
      "INFO:tensorflow:Restoring parameters from 02_DNNModle/model.ckpt-3000\n",
      "INFO:tensorflow:Running local_init_op.\n",
      "INFO:tensorflow:Done running local_init_op.\n",
      "INFO:tensorflow:Inference Time : 0.16627s\n",
      "INFO:tensorflow:Finished evaluation at 2023-04-24-23:36:57\n",
      "INFO:tensorflow:Saving dict for global step 3000: average_loss = 38421.21, global_step = 3000, label/mean = 581.3, loss = 38421.21, prediction/mean = 411.33267\n",
      "INFO:tensorflow:Saving 'checkpoint_path' summary for global step 3000: 02_DNNModle/model.ckpt-3000\n",
      "ev:{'average_loss': 38421.21, 'label/mean': 581.3, 'loss': 38421.21, 'prediction/mean': 411.33267, 'global_step': 3000}\n"
     ]
    }
   ],
   "source": [
    "#8 模型试验证明与测试\n",
    "#理解了上面的内容，接下来就很好理解了。\n",
    "#我们需要进行实验证明和测试的操作——其他实验证明也是利用了测试收集数据，\n",
    "#所以我还希望可以获得测试集预测结果，从更直观地了解了模型精度水平。\n",
    "\n",
    "#验证模型并保存验证结果\n",
    "EvalResult = DNNModel.evaluate(input_fn=lambda:InputFun(TestX,TestY,False,EvalBatchSize))\n",
    "\n",
    "#打印验证结果\n",
    "print('ev:{}'.format(EvalResult))\n",
    "\n",
    "#基于测试数据测试模型精度结果\n",
    "PredictValues=DNNModel.predict(input_fn=lambda:InputFunPredict(TestX,PredictBatchSize))\n",
    "\n",
    "#其中，验证时.evaluate所用的InputFun函数其实和训练集所用的是一样的函数，\n",
    "#只是验证时不需要进行打乱.shuffle(1000)和重新.repeat()操作；\n",
    "#而测试时.predict的InputFun函数，是印要输入自变量、无需输入因变化量。\n"
   ]
  },
  {
   "cell_type": "code",
   "execution_count": 27,
   "id": "84616eb2",
   "metadata": {
    "ExecuteTime": {
     "end_time": "2023-04-24T15:37:00.901137Z",
     "start_time": "2023-04-24T15:37:00.496702Z"
    }
   },
   "outputs": [
    {
     "name": "stdout",
     "output_type": "stream",
     "text": [
      "INFO:tensorflow:Calling model_fn.\n",
      "INFO:tensorflow:Done calling model_fn.\n",
      "INFO:tensorflow:Graph was finalized.\n",
      "INFO:tensorflow:Restoring parameters from 02_DNNModle/model.ckpt-3000\n",
      "INFO:tensorflow:Running local_init_op.\n",
      "INFO:tensorflow:Done running local_init_op.\n",
      "Pearson correlation coefficient is -0.2757528162810703, and RMSE is 196.0132943388858.\n",
      "('03_OtherResult/EvalResult54.xlsx', -0.2757528162810703, -5.640822930958476, 196.0132943388858, 0.2, 24, 'Adam', 0.01, 200, 0.96, '64,128', 'tf.nn.relu', 0.3, 'tf.compat.v1.ReductionV2.SUM_OVER_BATCH_SIZE', 'False', 110, 3000, 1, 1)\n"
     ]
    },
    {
     "name": "stderr",
     "output_type": "stream",
     "text": [
      "D:\\Miniconda\\envs\\cudaOCRpy37\\lib\\site-packages\\ipykernel_launcher.py:58: DeprecationWarning: Call to deprecated function get_sheet_names (Use wb.sheetnames).\n",
      "D:\\Miniconda\\envs\\cudaOCRpy37\\lib\\site-packages\\ipykernel_launcher.py:59: DeprecationWarning: Call to deprecated function get_sheet_by_name (Use wb[sheetname]).\n"
     ]
    },
    {
     "data": {
      "image/png": "[encoded data removed]",
      "text/plain": [
       "<Figure size 640x480 with 1 Axes>"
      ]
     },
     "metadata": {},
     "output_type": "display_data"
    }
   ],
   "source": [
    "#9 精度评价、模拟绘图制作与模型参数与精度保存\n",
    "\n",
    "#精度评价与模拟图像就不用过多说啦~\n",
    "#最后，我们最好将模型参数与精度计量指标结果保存在Excel表格中的这样子旁边借程序。\n",
    "#这里就不再一介介绍啦，大家对照片代码中的注解即可。\n",
    "\n",
    "#调用AccuracyVerification函数，进行精度验证指标的计算与绘图\n",
    "AccuracyResult=AccuracyVerification(PredictValues,TestY)\n",
    "PearsonR,R2,RMSE,PredictY=AccuracyResult[0],AccuracyResult[1],AccuracyResult[2],AccuracyResult[3]\n",
    "\n",
    "# 调用WriteAccuracy函数，将模型所涉及的参数与最终精度结果保存\n",
    "WriteAccuracy(MyResultSavePath,PearsonR,R2,RMSE,TestSize,RandomSeed,OptMethod,LearningRate,DecayStep,\n",
    "              DecayRate,','.join('%s' %i for i in HiddenLayer),ActFun,Dropout,LossReduction,\n",
    "              BatchNorm,TrainBatchSize,TrainStep,EvalBatchSize,PredictBatchSize)\n",
    "#遇到尺寸之类的报错，从头到尾运行"
   ]
  },
  {
   "cell_type": "code",
   "execution_count": null,
   "id": "47363985",
   "metadata": {},
   "outputs": [],
   "source": []
  }
 ],
 "metadata": {
  "kernelspec": {
   "display_name": "cudaOCRpy37",
   "language": "python",
   "name": "cudaocrpy37"
  },
  "language_info": {
   "codemirror_mode": {
    "name": "ipython",
    "version": 3
   },
   "file_extension": ".py",
   "mimetype": "text/x-python",
   "name": "python",
   "nbconvert_exporter": "python",
   "pygments_lexer": "ipython3",
   "version": "3.7.12"
  }
 },
 "nbformat": 4,
 "nbformat_minor": 5
}
