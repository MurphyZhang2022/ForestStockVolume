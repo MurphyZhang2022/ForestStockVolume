{
 "cells": [
  {
   "cell_type": "code",
   "execution_count": 7,
   "id": "822693f3",
   "metadata": {
    "ExecuteTime": {
     "end_time": "2023-04-23T08:57:55.056438Z",
     "start_time": "2023-04-23T08:57:55.044444Z"
    }
   },
   "outputs": [],
   "source": [
    "from sklearn.datasets import load_boston\n",
    "from sklearn.model_selection import cross_val_score\n",
    "from sklearn.ensemble import RandomForestRegressor\n",
    "import warnings\n",
    "warnings.filterwarnings(action='ignore', category=FutureWarning)"
   ]
  },
  {
   "cell_type": "code",
   "execution_count": 9,
   "id": "69819983",
   "metadata": {
    "ExecuteTime": {
     "end_time": "2023-04-23T08:59:10.098394Z",
     "start_time": "2023-04-23T08:59:08.133244Z"
    }
   },
   "outputs": [
    {
     "data": {
      "text/plain": [
       "array([-11.22504076,  -5.3945749 ,  -4.74755867, -22.54699078,\n",
       "       -12.31243335, -17.18030718,  -6.94019868, -94.14567212,\n",
       "       -28.541145  , -14.6250416 ])"
      ]
     },
     "execution_count": 9,
     "metadata": {},
     "output_type": "execute_result"
    }
   ],
   "source": [
    "boston = load_boston()\n",
    "regressor = RandomForestRegressor(n_estimators=100, random_state=0)\n",
    "cross_val_score(regressor, boston.data, boston.target, cv=10, scoring=\"neg_mean_squared_error\")"
   ]
  },
  {
   "cell_type": "code",
   "execution_count": null,
   "id": "1bc51413",
   "metadata": {},
   "outputs": [],
   "source": [
    "#查看所有可以用的评估指标\n",
    "import sklearn\n",
    "sorted(sklearn.metrics.SCORERS.keys())"
   ]
  }
 ],
 "metadata": {
  "kernelspec": {
   "display_name": "cudaOCRpy37",
   "language": "python",
   "name": "cudaocrpy37"
  },
  "language_info": {
   "codemirror_mode": {
    "name": "ipython",
    "version": 3
   },
   "file_extension": ".py",
   "mimetype": "text/x-python",
   "name": "python",
   "nbconvert_exporter": "python",
   "pygments_lexer": "ipython3",
   "version": "3.7.12"
  }
 },
 "nbformat": 4,
 "nbformat_minor": 5
}
